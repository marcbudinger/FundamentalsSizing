{
 "cells": [
  {
   "cell_type": "markdown",
   "metadata": {
    "slideshow": {
     "slide_type": "slide"
    }
   },
   "source": [
    "<img src=\"./pictures/logo-insa.jpg\" style=\"float:right; max-width: 120px; display: inline\" alt=\"INSA\" /></a>\n"
   ]
  },
  {
   "cell_type": "markdown",
   "metadata": {
    "slideshow": {
     "slide_type": "slide"
    }
   },
   "source": [
    "# Preliminary design and sizing of mechatronic systems.\n",
    "\n",
    "*Written by Marc Budinger, INSA Toulouse, France*"
   ]
  },
  {
   "cell_type": "markdown",
   "metadata": {
    "slideshow": {
     "slide_type": "slide"
    }
   },
   "source": [
    "\n",
    "## Description of the teaching module\n",
    "\n",
    "This course is taught at INSA Toulouse for the  Systems Engineering and Mechanical Engineering (apprenticeship) specialities. \n",
    "Concerning the topics of this module:   \n",
    "- The main objectives are to be able to size and optimize multi domain power transmissions. \n",
    "- The technical areas concern hydraulics, electricity and mechanics with examples which are mainly actuation systems or drive systems. \n",
    "- These approaches will make you discover what are scaling laws, metamodels or design graphs. \n",
    "- The implementation of the model will be done using python but can also come from Modelica models or excel sheets.\n",
    "\n",
    "The typical sequence is as follows:\n",
    "- At home: read written materials and watch videos\n",
    "- During lectures: quiz & questions\n",
    "- During Lab: practical applications on a case of study\n",
    "- During project: team work on a sizing project\n",
    "\n",
    "The 2 first videos will give you introductory materials about mechatronic systems, sizing, models and methods.\n",
    "\n",
    "- Video V0.1 - Introduction to preliminary design and sizing of mechatronic systems [French](https://youtu.be/vQ9w1Zz3ZzY) [English](https://youtu.be/h6V0P5p2Hlk )\n",
    "\n",
    "- Video V0.2 - Introduction to models and methods [English](https://youtu.be/Y1vBlkmjJ2s)\n"
   ]
  },
  {
   "cell_type": "markdown",
   "metadata": {},
   "source": [
    "## Fundamentals of sizing - Table of contents\n",
    "\n",
    "- [Architecture analysis](01_ArchitectureAnalysis.ipynb): the first step of a preliminary design is the analysis of the system and the definition of the main sizing scenarios.  \n",
    "- [Estimation models](): This section presents the estimation models that calculate the component characteristics requested for their selection without requiring a detailed design. Linear regression of catalog datas and scaling laws are particularly suitable for this purpose.  \n",
    "- [Simulation models](): The objective of simulation models is to establish the relationships between the different components of a system and to access the variables influencing the selection of these components.  \n",
    "- [Evaluation models](): The goal of evaluation models is to check the ability of a component to operate in its safe operating area for the required lifetime and reliability.  \n",
    "- [Sizing and optimization procedures](): This last part focuses on the proper combination of the previous models to develop sizing and optimization procedures. Design graphs can be used to represent the constraints and the links between algebraic models in order to define the design problem.  \n"
   ]
  },
  {
   "cell_type": "markdown",
   "metadata": {},
   "source": [
    "## Study cases - Laboratories\n",
    "\n",
    "- [Electromechancal Actuator (EMA) for thrust vector control](): The TVC (thrust vector control) system enable to control the trajectory of a rocket. The objectives of the labs are to model and size a linear actuator with high dynamic requirements.\n",
    "- [DC/DC converter for ](): The new electric mobilities require power electronics converters to manage energy flows with storage elements. The case study optimizes the sizing of a DC / DC converter for energy management of a bus super capacity."
   ]
  },
  {
   "cell_type": "markdown",
   "metadata": {
    "slideshow": {
     "slide_type": "slide"
    }
   },
   "source": [
    "## Remarks\n",
    "\n",
    "- This document has been written with Jupyter Notebook. The Jupyter Notebook is an open-source web application that allows you to create and share documents that contain live code, equations, visualizations and narrative text. More informations about Jupyter can be found [here](http://jupyter.org/).\n",
    "\n",
    "- The \"live\" code is python 3 with numpy, scipy packages. Jupyter and a lot of scientific packages are included in the [Anaconda](https://www.anaconda.com/what-is-anaconda/) python distribution. \n",
    "\n",
    "- The narrative text is formatting with markdown section. Here is a short tutorial about the use of the [markdown](http://www.markdowntutorial.com) standard.  \n",
    "\n"
   ]
  },
  {
   "cell_type": "code",
   "execution_count": null,
   "metadata": {},
   "outputs": [],
   "source": []
  },
  {
   "cell_type": "code",
   "execution_count": null,
   "metadata": {},
   "outputs": [],
   "source": []
  }
 ],
 "metadata": {
  "kernelspec": {
   "display_name": "Python 3",
   "language": "python",
   "name": "python3"
  },
  "language_info": {
   "codemirror_mode": {
    "name": "ipython",
    "version": 3
   },
   "file_extension": ".py",
   "mimetype": "text/x-python",
   "name": "python",
   "nbconvert_exporter": "python",
   "pygments_lexer": "ipython3",
   "version": "3.6.4"
  }
 },
 "nbformat": 4,
 "nbformat_minor": 2
}
