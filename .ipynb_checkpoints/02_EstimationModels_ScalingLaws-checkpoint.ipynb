{
 "cells": [
  {
   "cell_type": "markdown",
   "metadata": {},
   "source": [
    "<img src=\"./pictures/logo-insa.jpg\" style=\"float:right; max-width: 120px; display: inline\" alt=\"INSA\" /></a>"
   ]
  },
  {
   "cell_type": "markdown",
   "metadata": {},
   "source": [
    "# Estimation models - Scaling laws\n",
    "\n",
    "*Written by Marc Budinger, INSA Toulouse*\n",
    "\n",
    "This section presents the estimation models that calculate the component characteristics requested for their selection without requiring a detailed design. Scaling laws are particularly suitable for this purpose when you have not a lot of datasheet informations."
   ]
  },
  {
   "cell_type": "code",
   "execution_count": 2,
   "metadata": {},
   "outputs": [],
   "source": [
    "import QCM_widget as QCM"
   ]
  },
  {
   "cell_type": "markdown",
   "metadata": {},
   "source": [
    "#### Teaching video\n",
    "\n",
    "This video is going to introduce you to scaling laws.\n",
    "\n",
    "- Video V2.2 - Estimation models with scaling laws [English](https://youtu.be/W1etBPDOWhU)\n",
    "\n",
    "#### Recall on scaling laws \n",
    "\n",
    "Assumptions:  \n",
    "- Geometrical similarity \n",
    "- Material similarity\n",
    "- One dominant phenomena\n",
    "\n",
    "Mathematical form: $y=kL^a$  \n",
    "with $k$ function of reference and $a$ of physical effect\n",
    "\n",
    "Notation:\t\t\t$y^*=L^{*a}$\n",
    "\n",
    "![Notation](./pictures/ScalingGeometricSimilarity.png)\n",
    "\n",
    "Obtention ways:\t\n",
    "- direct manipulation of equations\n",
    "- dimensional analysis and Buckingham theorem\n",
    "\n",
    "Components: \t\t\n",
    "One main design driver express by a constant stress $X^*=1$\n",
    "\n",
    "#### The Buckingham theorem\n",
    "\n",
    "In engineering, applied mathematics, and physics, the Buckingham π theorem is a key theorem in dimensional analysis. Loosely, the theorem states that if there is a physically meaningful equation involving a certain number n of physical variables, then the original equation can be rewritten in terms of a set of $p = n − k$  dimensionless parameters $\\pi_1$, $\\pi_2$, ..., $\\pi_p$ constructed from the original variables. (Here $k$ is the number of physical dimensions involved).\n",
    "\n",
    "\n",
    "[Wikipedia page on the Buckingham theorem](https://en.wikipedia.org/wiki/Buckingham_%CF%80_theorem)  \n",
    "[Introductory video to dimensional analysis](https://youtu.be/3gxNrc_EEN8)  \n",
    "[Example of setting up $\\pi$ numbers](https://youtu.be/J7khnExq9aE)  \n"
   ]
  },
  {
   "cell_type": "markdown",
   "metadata": {},
   "source": [
    "#### Quizzes on Geometric similarity\n",
    "\n",
    "We assume to have similarity on all geometrical parameters : $r^* = d^* = …= l^*$\n",
    "\n",
    "\n",
    "Give evolution of areas:  \n",
    "a. $𝑙^∗$  \n",
    "b. $𝑙^{∗2}$  \n",
    "c. $𝑙^{∗−2}$  \n",
    "d. $𝑙^{∗1/2}$  \n",
    "e. $𝑙^{∗-1/2}$  "
   ]
  },
  {
   "cell_type": "code",
   "execution_count": 3,
   "metadata": {},
   "outputs": [
    {
     "data": {
      "application/vnd.jupyter.widget-view+json": {
       "model_id": "0d324927797941808ef54f6cf347fdef",
       "version_major": 2,
       "version_minor": 0
      },
      "text/plain": [
       "VBox(children=(Output(), RadioButtons(options=(('a', 0), ('b', 1), ('c', 2), ('d', 3), ('e', 4)), value=0), Bu…"
      ]
     },
     "metadata": {},
     "output_type": "display_data"
    }
   ],
   "source": [
    "QCM.quiz(1,\"./quiz/ScalingQuiz.xlsx\")"
   ]
  },
  {
   "cell_type": "markdown",
   "metadata": {},
   "source": [
    "Give evolution of volumes:  \n",
    "a. $𝑙^∗$  \n",
    "b. $𝑙^{∗2}$  \n",
    "c. $𝑙^{∗3}$  \n",
    "d. $𝑙^{∗−3}$  \n",
    "e. $𝑙^{∗1/3}$  \n"
   ]
  },
  {
   "cell_type": "code",
   "execution_count": 4,
   "metadata": {},
   "outputs": [
    {
     "data": {
      "application/vnd.jupyter.widget-view+json": {
       "model_id": "e52f35fdec05425a84506ef9f0b7c1ea",
       "version_major": 2,
       "version_minor": 0
      },
      "text/plain": [
       "VBox(children=(Output(), RadioButtons(options=(('a', 0), ('b', 1), ('c', 2), ('d', 3), ('e', 4)), value=0), Bu…"
      ]
     },
     "metadata": {},
     "output_type": "display_data"
    }
   ],
   "source": [
    "QCM.quiz(2,\"./quiz/ScalingQuiz.xlsx\")"
   ]
  },
  {
   "cell_type": "markdown",
   "metadata": {},
   "source": [
    "Give evolution of masses:   \n",
    "a. $𝑙^∗$  \n",
    "b. $𝑙^{∗2}$  \n",
    "c. $𝑙^{∗3}$  \n",
    "d. $𝑙^{∗−3}$  \n",
    "e. $𝑙^{∗1/3}$\n"
   ]
  },
  {
   "cell_type": "code",
   "execution_count": 5,
   "metadata": {},
   "outputs": [
    {
     "data": {
      "application/vnd.jupyter.widget-view+json": {
       "model_id": "c24f206dddb146baa12aed7bfae8f27e",
       "version_major": 2,
       "version_minor": 0
      },
      "text/plain": [
       "VBox(children=(Output(), RadioButtons(options=(('a', 0), ('b', 1), ('c', 2), ('d', 3), ('e', 4)), value=0), Bu…"
      ]
     },
     "metadata": {},
     "output_type": "display_data"
    }
   ],
   "source": [
    "QCM.quiz(3,\"./quiz/ScalingQuiz.xlsx\")"
   ]
  },
  {
   "cell_type": "markdown",
   "metadata": {},
   "source": [
    "Give evolution of inertias:  \n",
    "a. $𝑙^{∗2}$  \n",
    "b. $𝑙^{∗3}$  \n",
    "c. $𝑙^{*4}$  \n",
    "d. $𝑙^{∗5}$  \n",
    "e. $𝑙^{∗6}$  \n"
   ]
  },
  {
   "cell_type": "code",
   "execution_count": 6,
   "metadata": {},
   "outputs": [
    {
     "data": {
      "application/vnd.jupyter.widget-view+json": {
       "model_id": "b31fc4be9c254945b7c20348f8b5955a",
       "version_major": 2,
       "version_minor": 0
      },
      "text/plain": [
       "VBox(children=(Output(), RadioButtons(options=(('a', 0), ('b', 1), ('c', 2), ('d', 3), ('e', 4)), value=0), Bu…"
      ]
     },
     "metadata": {},
     "output_type": "display_data"
    }
   ],
   "source": [
    "QCM.quiz(4,\"./quiz/ScalingQuiz.xlsx\")"
   ]
  },
  {
   "cell_type": "markdown",
   "metadata": {},
   "source": [
    "\n"
   ]
  },
  {
   "cell_type": "markdown",
   "metadata": {},
   "source": [
    "### Buckingham theorem and scaling laws\n",
    "\n",
    "Thanks Buckingham theorem, find evolution of stress $\\sigma$ with geometrical dimension for a rectangular sample under a load in a three-point bending setup:  \n",
    "- $F$ is the load (force) at the fracture point (N) \n",
    "- $L$ is the length of the support span \n",
    "- $b$ is width \n",
    "- $d$ is thickness \n",
    "\n",
    "![beam](./pictures/scaling_beam.png)\n",
    "\n",
    "a. $\\frac{\\sigma.L}{F}= f(\\frac{b}{L}, \\frac{d}{L})$  \t\n",
    "b. $\\frac{\\sigma.L^2}{F}= f(\\frac{b}{L}, \\frac{d}{L})$  \t\n",
    "c. $\\sigma = f(\\frac{F}{L^2}, \\frac{b}{L}, \\frac{d}{L})$  "
   ]
  },
  {
   "cell_type": "code",
   "execution_count": 7,
   "metadata": {},
   "outputs": [
    {
     "data": {
      "application/vnd.jupyter.widget-view+json": {
       "model_id": "cb5a99f922254efc8c3d956d2d0f5423",
       "version_major": 2,
       "version_minor": 0
      },
      "text/plain": [
       "VBox(children=(Output(), RadioButtons(options=(('a', 0), ('b', 1), ('c', 2)), value=0), Button(description='Su…"
      ]
     },
     "metadata": {},
     "output_type": "display_data"
    }
   ],
   "source": [
    "QCM.quiz(5,\"./quiz/ScalingQuiz.xlsx\")"
   ]
  },
  {
   "cell_type": "markdown",
   "metadata": {},
   "source": [
    "Using previous answer or personal knowledge, find scaling laws of stress $\\sigma$ with geometrical dimension L* if we assume and geometrical similarity. \n",
    "\n",
    "a. $\\sigma^* = \\frac{F^*}{L^{*2}}$\t\n",
    "b. $\\sigma^* =F^*$  \t\n",
    "c. $\\sigma^* =F^*L^{*2}$  "
   ]
  },
  {
   "cell_type": "code",
   "execution_count": 8,
   "metadata": {},
   "outputs": [
    {
     "data": {
      "application/vnd.jupyter.widget-view+json": {
       "model_id": "e46defe18fcb4d7b9de72be10b2ec451",
       "version_major": 2,
       "version_minor": 0
      },
      "text/plain": [
       "VBox(children=(Output(), RadioButtons(options=(('a', 0), ('b', 1), ('c', 2)), value=0), Button(description='Su…"
      ]
     },
     "metadata": {},
     "output_type": "display_data"
    }
   ],
   "source": [
    "QCM.quiz(6,\"./quiz/ScalingQuiz.xlsx\")"
   ]
  },
  {
   "cell_type": "markdown",
   "metadata": {},
   "source": [
    "If $F^*=4$ (force x4) what should be the ratio $L^*$."
   ]
  },
  {
   "cell_type": "code",
   "execution_count": 9,
   "metadata": {},
   "outputs": [
    {
     "data": {
      "application/vnd.jupyter.widget-view+json": {
       "model_id": "48043cb7de5a4afb989c0991c53eb3fa",
       "version_major": 2,
       "version_minor": 0
      },
      "text/plain": [
       "VBox(children=(Output(), RadioButtons(options=(('L∗= 4', 0), ('L∗= 2', 1), ('L∗= 1', 2)), value=0), Button(des…"
      ]
     },
     "metadata": {},
     "output_type": "display_data"
    }
   ],
   "source": [
    "QCM.quiz(7,\"./quiz/ScalingQuiz.xlsx\")"
   ]
  },
  {
   "cell_type": "markdown",
   "metadata": {},
   "source": [
    "### Mechanics: stress & components examples\n",
    "\n",
    "Estimate the diameter $d$ of a rod-end  with a static load $C_0 = 50 kN$.\n",
    "\n",
    "![rod-end](./pictures/scaling_rodend.png)"
   ]
  },
  {
   "cell_type": "code",
   "execution_count": 10,
   "metadata": {},
   "outputs": [
    {
     "data": {
      "application/vnd.jupyter.widget-view+json": {
       "model_id": "842f3457e2f440bc9c97be5860e656e7",
       "version_major": 2,
       "version_minor": 0
      },
      "text/plain": [
       "VBox(children=(Output(), RadioButtons(options=(('d=5mm', 0), ('d=15mm', 1), ('d=20mm', 2), ('d=25mm', 3)), val…"
      ]
     },
     "metadata": {},
     "output_type": "display_data"
    }
   ],
   "source": [
    "QCM.quiz(8,\"./quiz/ScalingQuiz.xlsx\")"
   ]
  },
  {
   "cell_type": "markdown",
   "metadata": {},
   "source": [
    "Estimate the mass of a reducer of low speed axe torque 1150 N.m and reduction ratio 10.\n",
    "\n",
    "![reducer](./pictures/scaling_reduer.png)"
   ]
  },
  {
   "cell_type": "code",
   "execution_count": 11,
   "metadata": {},
   "outputs": [
    {
     "data": {
      "application/vnd.jupyter.widget-view+json": {
       "model_id": "53e2f437539a42dba2b4de5c82ec20d4",
       "version_major": 2,
       "version_minor": 0
      },
      "text/plain": [
       "VBox(children=(Output(), RadioButtons(options=(('m=5kg', 0), ('m=19.7kg', 1), ('m=34.5kg', 2), ('m=125.5kg', 3…"
      ]
     },
     "metadata": {},
     "output_type": "display_data"
    }
   ],
   "source": [
    "QCM.quiz(9,\"./quiz/ScalingQuiz.xlsx\")"
   ]
  },
  {
   "cell_type": "markdown",
   "metadata": {},
   "source": [
    "Estimate the linear mass of the screw shaft characterized by a static load of 5,4 kN.\n",
    "\n",
    "![ballscrew](./pictures/scaling_ballscrew.png)"
   ]
  },
  {
   "cell_type": "code",
   "execution_count": 12,
   "metadata": {},
   "outputs": [
    {
     "data": {
      "application/vnd.jupyter.widget-view+json": {
       "model_id": "769d8ab99ce449f8b422e546e55fed3d",
       "version_major": 2,
       "version_minor": 0
      },
      "text/plain": [
       "VBox(children=(Output(), RadioButtons(options=(('ml=0.12kg/m', 0), ('ml=0.38kg/m', 1), ('ml=0.64kg/m', 2), ('m…"
      ]
     },
     "metadata": {},
     "output_type": "display_data"
    }
   ],
   "source": [
    "QCM.quiz(10,\"./quiz/ScalingQuiz.xlsx\")"
   ]
  },
  {
   "cell_type": "markdown",
   "metadata": {},
   "source": [
    "### Electrotechnics: induction and heat transfer \n",
    "\n",
    "For a magnetic circuit including permanent magnets, such as those encountered in brushless motors, the magnetic field can be assumed constant for geometric similarity. \n"
   ]
  },
  {
   "attachments": {},
   "cell_type": "markdown",
   "metadata": {},
   "source": [
    "In a brushless motor, give the scaling law which links torque $T^*$ to current density $J^*$ and dimensions $L^*$ (geometric similarity assumption):   \n",
    "a. $𝑇^∗=𝐽^∗𝐿^∗$   \n",
    "b. $𝑇^∗=𝐽^{∗2}𝐿^{∗2}$  \n",
    "c. $𝑇^∗=𝐽^∗𝐿^{∗3}$  \n",
    "d. $𝑇^∗=𝐽^∗𝐿^{∗4}$  \n",
    "\n",
    "Recall:  \n",
    "[The Magnetic Force on a Current-Carrying Conductor](https://courses.lumenlearning.com/physics/chapter/22-7-magnetic-force-on-a-current-carrying-conductor/])  \n",
    "[Electric Current Density](http://maxwells-equations.com/density/current.php)"
   ]
  },
  {
   "cell_type": "code",
   "execution_count": 13,
   "metadata": {},
   "outputs": [
    {
     "data": {
      "application/vnd.jupyter.widget-view+json": {
       "model_id": "901d83fba63644e3b48447826e1cab96",
       "version_major": 2,
       "version_minor": 0
      },
      "text/plain": [
       "VBox(children=(Output(), RadioButtons(options=(('a', 0), ('b', 1), ('c', 2), ('d', 3)), value=0), Button(descr…"
      ]
     },
     "metadata": {},
     "output_type": "display_data"
    }
   ],
   "source": [
    "QCM.quiz(11,\"./quiz/ScalingQuiz.xlsx\")"
   ]
  },
  {
   "attachments": {},
   "cell_type": "markdown",
   "metadata": {},
   "source": [
    "If convective is the main issue for heat transfer of brushless motors, link winding temperature $\\theta^*$ to current density $J^*$ and dimensions $L^*$:  \n",
    "\n",
    "a. $𝜃^∗=𝐽^∗𝐿^∗$  \n",
    "b. $𝜃^∗=𝐽^{∗2} 𝐿^{∗2}$    \n",
    "c. $𝜃^∗=𝐽^{∗2} 𝐿^∗$    \n",
    "d. $𝜃^∗=𝐽^{∗} 𝐿^{∗2}$    \n"
   ]
  },
  {
   "cell_type": "code",
   "execution_count": 18,
   "metadata": {},
   "outputs": [
    {
     "data": {
      "application/vnd.jupyter.widget-view+json": {
       "model_id": "3ac55694ce2946acad8a225f06b1b07a",
       "version_major": 2,
       "version_minor": 0
      },
      "text/plain": [
       "VBox(children=(Output(), RadioButtons(options=(('a', 0), ('b', 1), ('c', 2), ('d', 3)), value=0), Button(descr…"
      ]
     },
     "metadata": {},
     "output_type": "display_data"
    }
   ],
   "source": [
    "QCM.quiz(12,\"./quiz/ScalingQuiz.xlsx\")"
   ]
  },
  {
   "attachments": {},
   "cell_type": "markdown",
   "metadata": {},
   "source": [
    "The maximum temperature should be constant throughout a range of products, giving $𝜃^∗=1$.\n",
    "\n",
    "![Brushless Motor](./pictures/scalingbrushlessmotor.png)\n",
    "\n",
    "Estimate the mass of a brushless motor of 8 N.m:    \n",
    "a. 𝑀=2,1 𝑘𝑔    \n",
    "b. 𝑀=6,8 kg  \n",
    "c. 𝑀=4,2 𝑘𝑔  \n",
    "d. 𝑀=18 𝑘𝑔   \n"
   ]
  },
  {
   "cell_type": "code",
   "execution_count": null,
   "metadata": {},
   "outputs": [],
   "source": [
    "QCM.quiz(13,\"./quiz/ScalingQuiz.xlsx\")"
   ]
  },
  {
   "cell_type": "markdown",
   "metadata": {},
   "source": [
    "Estimate the inertia of a brushless motor of 8 N.m:  \n",
    "a. $𝐽=8.10^{−5} 𝑘𝑔.𝑚²$    \n",
    "b. $𝐽=22.10^{−5} 𝑘𝑔.𝑚²$   \n",
    "c. $𝐽=57.10^{−5} 𝑘𝑔.𝑚²$  \n",
    "d. $𝐽=79.10^{−5} 𝑘𝑔.𝑚²$    \n"
   ]
  },
  {
   "cell_type": "code",
   "execution_count": null,
   "metadata": {},
   "outputs": [],
   "source": [
    "QCM.quiz(14,\"./quiz/ScalingQuiz.xlsx\")"
   ]
  }
 ],
 "metadata": {
  "kernelspec": {
   "display_name": "Python 3",
   "language": "python",
   "name": "python3"
  },
  "language_info": {
   "codemirror_mode": {
    "name": "ipython",
    "version": 3
   },
   "file_extension": ".py",
   "mimetype": "text/x-python",
   "name": "python",
   "nbconvert_exporter": "python",
   "pygments_lexer": "ipython3",
   "version": "3.6.4"
  },
  "widgets": {
   "application/vnd.jupyter.widget-state+json": {
    "state": {
     "00747fa259b54ff7b6a402784ce783d9": {
      "model_module": "@jupyter-widgets/base",
      "model_module_version": "1.1.0",
      "model_name": "LayoutModel",
      "state": {}
     },
     "04b909a64b034a989de80111511b73cc": {
      "model_module": "@jupyter-widgets/base",
      "model_module_version": "1.1.0",
      "model_name": "LayoutModel",
      "state": {}
     },
     "0513c393c31242d78f003cab9225abcb": {
      "model_module": "@jupyter-widgets/base",
      "model_module_version": "1.1.0",
      "model_name": "LayoutModel",
      "state": {}
     },
     "0800f6632d204de18b0900425074f566": {
      "model_module": "@jupyter-widgets/controls",
      "model_module_version": "1.4.0",
      "model_name": "VBoxModel",
      "state": {
       "children": [
        "IPY_MODEL_50bf86652ccb4dccab0c9dcd24293fcc",
        "IPY_MODEL_880838879ec1469b8f284e2fc93b8d8d",
        "IPY_MODEL_77ded76026424f1f81519edb5a528af1",
        "IPY_MODEL_d2b3625685ab434bbdb21e9248f99d3e"
       ],
       "layout": "IPY_MODEL_8d18ee18dfee454ab66e159130e49cf4"
      }
     },
     "08b74a2981424bf4ae193652de296ed1": {
      "model_module": "@jupyter-widgets/output",
      "model_module_version": "1.0.0",
      "model_name": "OutputModel",
      "state": {
       "layout": "IPY_MODEL_2bfa1e5b06604a2895c0156c32d4301c",
       "outputs": [
        {
         "name": "stdout",
         "output_type": "stream",
         "text": "Select the correct answer\n"
        }
       ]
      }
     },
     "0c76578bb62945359282f67c7f0ac18e": {
      "model_module": "@jupyter-widgets/output",
      "model_module_version": "1.0.0",
      "model_name": "OutputModel",
      "state": {
       "layout": "IPY_MODEL_501e01a5b72b4295ae4dd3dbab644419",
       "outputs": [
        {
         "name": "stdout",
         "output_type": "stream",
         "text": "Select the correct answer\n"
        }
       ]
      }
     },
     "0f88631f49434458a833c16f00d766d7": {
      "model_module": "@jupyter-widgets/base",
      "model_module_version": "1.1.0",
      "model_name": "LayoutModel",
      "state": {}
     },
     "0ffb7dad632846aea266520c147f4427": {
      "model_module": "@jupyter-widgets/output",
      "model_module_version": "1.0.0",
      "model_name": "OutputModel",
      "state": {
       "layout": "IPY_MODEL_2e8db713ce624ace8831e9267c83c4c2",
       "outputs": [
        {
         "name": "stdout",
         "output_type": "stream",
         "text": "\u001b[6;30;42mTrue\u001b[0m\n\n"
        }
       ]
      }
     },
     "116b88a9f9fb42a285154b06297d17a8": {
      "model_module": "@jupyter-widgets/controls",
      "model_module_version": "1.4.0",
      "model_name": "DescriptionStyleModel",
      "state": {
       "description_width": ""
      }
     },
     "14947cfc643a4bfe86fc4ce84d40e5d6": {
      "model_module": "@jupyter-widgets/output",
      "model_module_version": "1.0.0",
      "model_name": "OutputModel",
      "state": {
       "layout": "IPY_MODEL_725b60c5ccce49598fd97ba736270b1d",
       "outputs": [
        {
         "name": "stdout",
         "output_type": "stream",
         "text": "\u001b[6;30;42mTrue\u001b[0m\n\n"
        }
       ]
      }
     },
     "16a953e45c7c4d4f86c7f995d237066f": {
      "model_module": "@jupyter-widgets/controls",
      "model_module_version": "1.4.0",
      "model_name": "DescriptionStyleModel",
      "state": {
       "description_width": ""
      }
     },
     "1de40fae354b4627a88df52ce9c4c8a7": {
      "model_module": "@jupyter-widgets/output",
      "model_module_version": "1.0.0",
      "model_name": "OutputModel",
      "state": {
       "layout": "IPY_MODEL_ba7b4d2b3f6c4fd8ad0c257541ddd710",
       "outputs": [
        {
         "name": "stdout",
         "output_type": "stream",
         "text": "Select the correct answer\n"
        }
       ]
      }
     },
     "1fc528d2a8f943b098fdf949695d56d0": {
      "model_module": "@jupyter-widgets/base",
      "model_module_version": "1.1.0",
      "model_name": "LayoutModel",
      "state": {}
     },
     "22542d92763b41748d745084c791101a": {
      "model_module": "@jupyter-widgets/controls",
      "model_module_version": "1.4.0",
      "model_name": "VBoxModel",
      "state": {
       "children": [
        "IPY_MODEL_1de40fae354b4627a88df52ce9c4c8a7",
        "IPY_MODEL_9f9851688366437699ddbcef8bb30e4a",
        "IPY_MODEL_3926454c10274825ae1c2f13a9a19cf2",
        "IPY_MODEL_847fbfd0fdea4bb69b9d4987bfac21ff"
       ],
       "layout": "IPY_MODEL_e57d73008d4c4fa6b136e01bac355746"
      }
     },
     "2a2b0924c5fd4697963b3ef335be19d1": {
      "model_module": "@jupyter-widgets/base",
      "model_module_version": "1.1.0",
      "model_name": "LayoutModel",
      "state": {}
     },
     "2b1823e7d4534a78bd15b38ecc499fe3": {
      "model_module": "@jupyter-widgets/output",
      "model_module_version": "1.0.0",
      "model_name": "OutputModel",
      "state": {
       "layout": "IPY_MODEL_58642b972f3447ed99c80a0742578745",
       "outputs": [
        {
         "name": "stdout",
         "output_type": "stream",
         "text": "Select the correct answer\n"
        }
       ]
      }
     },
     "2bfa1e5b06604a2895c0156c32d4301c": {
      "model_module": "@jupyter-widgets/base",
      "model_module_version": "1.1.0",
      "model_name": "LayoutModel",
      "state": {}
     },
     "2cfbd3641b894dbeadb6b7367d042bd6": {
      "model_module": "@jupyter-widgets/output",
      "model_module_version": "1.0.0",
      "model_name": "OutputModel",
      "state": {
       "layout": "IPY_MODEL_96ff6889f8714dacabe498d2ae188c75",
       "outputs": [
        {
         "name": "stdout",
         "output_type": "stream",
         "text": "\u001b[6;30;42mTrue\u001b[0m\n\n"
        }
       ]
      }
     },
     "2e8db713ce624ace8831e9267c83c4c2": {
      "model_module": "@jupyter-widgets/base",
      "model_module_version": "1.1.0",
      "model_name": "LayoutModel",
      "state": {}
     },
     "3500a6f8d1aa46e2a63b49c48ac35eec": {
      "model_module": "@jupyter-widgets/output",
      "model_module_version": "1.0.0",
      "model_name": "OutputModel",
      "state": {
       "layout": "IPY_MODEL_3da68dd759e341caa2170cf574002347",
       "outputs": [
        {
         "name": "stdout",
         "output_type": "stream",
         "text": "Select the correct answer\n"
        }
       ]
      }
     },
     "379f48ba0f904ac8b2096d297181f5de": {
      "model_module": "@jupyter-widgets/controls",
      "model_module_version": "1.4.0",
      "model_name": "ButtonStyleModel",
      "state": {}
     },
     "38953f0fc6e947c397e0d7494f34ef87": {
      "model_module": "@jupyter-widgets/base",
      "model_module_version": "1.1.0",
      "model_name": "LayoutModel",
      "state": {}
     },
     "3926454c10274825ae1c2f13a9a19cf2": {
      "model_module": "@jupyter-widgets/controls",
      "model_module_version": "1.4.0",
      "model_name": "ButtonModel",
      "state": {
       "description": "Submit",
       "layout": "IPY_MODEL_6cd5f71e63c247eeb71a982357a971ff",
       "style": "IPY_MODEL_4927855f24e24857944e48c355427a2c"
      }
     },
     "3ba28518881d470fbb7b7e718b8c321a": {
      "model_module": "@jupyter-widgets/output",
      "model_module_version": "1.0.0",
      "model_name": "OutputModel",
      "state": {
       "layout": "IPY_MODEL_bf52693080064091bcafaa6a4206a1a5"
      }
     },
     "3da68dd759e341caa2170cf574002347": {
      "model_module": "@jupyter-widgets/base",
      "model_module_version": "1.1.0",
      "model_name": "LayoutModel",
      "state": {}
     },
     "3ed63f55bf804b25aa02b643be7ca75a": {
      "model_module": "@jupyter-widgets/base",
      "model_module_version": "1.1.0",
      "model_name": "LayoutModel",
      "state": {}
     },
     "46f9cb58e81340659b21455838d4f019": {
      "model_module": "@jupyter-widgets/controls",
      "model_module_version": "1.4.0",
      "model_name": "ButtonModel",
      "state": {
       "description": "Submit",
       "layout": "IPY_MODEL_f9dfa339054c447880738df037c6c2fc",
       "style": "IPY_MODEL_379f48ba0f904ac8b2096d297181f5de"
      }
     },
     "476954d851864dc5ad1292625cf32250": {
      "model_module": "@jupyter-widgets/controls",
      "model_module_version": "1.4.0",
      "model_name": "VBoxModel",
      "state": {
       "children": [
        "IPY_MODEL_b42350dd65154204a746bf998259976e",
        "IPY_MODEL_ff0b7181b0434f0bb5fb696c823fb571",
        "IPY_MODEL_46f9cb58e81340659b21455838d4f019",
        "IPY_MODEL_3ba28518881d470fbb7b7e718b8c321a"
       ],
       "layout": "IPY_MODEL_7552df398eb241e9b68f9a064250a341"
      }
     },
     "4927855f24e24857944e48c355427a2c": {
      "model_module": "@jupyter-widgets/controls",
      "model_module_version": "1.4.0",
      "model_name": "ButtonStyleModel",
      "state": {}
     },
     "4f043de2d32944719d7515d48588f5a1": {
      "model_module": "@jupyter-widgets/controls",
      "model_module_version": "1.4.0",
      "model_name": "ButtonModel",
      "state": {
       "description": "Submit",
       "layout": "IPY_MODEL_e58e0b73e6f14f4583a0dbc080d6c52f",
       "style": "IPY_MODEL_51c1bbc1ac064364b4d19f8a73a44b4e"
      }
     },
     "501e01a5b72b4295ae4dd3dbab644419": {
      "model_module": "@jupyter-widgets/base",
      "model_module_version": "1.1.0",
      "model_name": "LayoutModel",
      "state": {}
     },
     "50bf86652ccb4dccab0c9dcd24293fcc": {
      "model_module": "@jupyter-widgets/output",
      "model_module_version": "1.0.0",
      "model_name": "OutputModel",
      "state": {
       "layout": "IPY_MODEL_2a2b0924c5fd4697963b3ef335be19d1",
       "outputs": [
        {
         "name": "stdout",
         "output_type": "stream",
         "text": "Select the correct answer\n"
        }
       ]
      }
     },
     "51c1bbc1ac064364b4d19f8a73a44b4e": {
      "model_module": "@jupyter-widgets/controls",
      "model_module_version": "1.4.0",
      "model_name": "ButtonStyleModel",
      "state": {}
     },
     "58642b972f3447ed99c80a0742578745": {
      "model_module": "@jupyter-widgets/base",
      "model_module_version": "1.1.0",
      "model_name": "LayoutModel",
      "state": {}
     },
     "6415daf4a4834e33b1f779aa6fe70e35": {
      "model_module": "@jupyter-widgets/controls",
      "model_module_version": "1.4.0",
      "model_name": "ButtonModel",
      "state": {
       "description": "Submit",
       "layout": "IPY_MODEL_ff56de86b19e4505acc6191d7dc52fa9",
       "style": "IPY_MODEL_dec4c4d7c8a94adeabc6b8d8c66f5ccb"
      }
     },
     "6482831c705f4466903e5e9afa3d6948": {
      "model_module": "@jupyter-widgets/controls",
      "model_module_version": "1.4.0",
      "model_name": "DescriptionStyleModel",
      "state": {
       "description_width": ""
      }
     },
     "6cd5f71e63c247eeb71a982357a971ff": {
      "model_module": "@jupyter-widgets/base",
      "model_module_version": "1.1.0",
      "model_name": "LayoutModel",
      "state": {}
     },
     "6ee278f1baa444c382400bf4e07e8ce9": {
      "model_module": "@jupyter-widgets/controls",
      "model_module_version": "1.4.0",
      "model_name": "VBoxModel",
      "state": {
       "children": [
        "IPY_MODEL_2b1823e7d4534a78bd15b38ecc499fe3",
        "IPY_MODEL_9840aeeabddf4ec4b178a2b15ed4b7dc",
        "IPY_MODEL_e5dc45a50e2b43079f8e366b5dced8ed",
        "IPY_MODEL_2cfbd3641b894dbeadb6b7367d042bd6"
       ],
       "layout": "IPY_MODEL_787927552f1648b59029ecdf091b83ed"
      }
     },
     "6f0df751aeb348e2ba775924f0afa185": {
      "model_module": "@jupyter-widgets/base",
      "model_module_version": "1.1.0",
      "model_name": "LayoutModel",
      "state": {}
     },
     "6f2db549d38c47bd96688c0f9c77ec80": {
      "model_module": "@jupyter-widgets/base",
      "model_module_version": "1.1.0",
      "model_name": "LayoutModel",
      "state": {}
     },
     "714888d8615547db96ae24d0ce6b29f3": {
      "model_module": "@jupyter-widgets/base",
      "model_module_version": "1.1.0",
      "model_name": "LayoutModel",
      "state": {}
     },
     "725b60c5ccce49598fd97ba736270b1d": {
      "model_module": "@jupyter-widgets/base",
      "model_module_version": "1.1.0",
      "model_name": "LayoutModel",
      "state": {}
     },
     "7282a482cc03460db98f809ca85b7507": {
      "model_module": "@jupyter-widgets/base",
      "model_module_version": "1.1.0",
      "model_name": "LayoutModel",
      "state": {}
     },
     "72e6305690e245d1bef5e884760c32f9": {
      "model_module": "@jupyter-widgets/base",
      "model_module_version": "1.1.0",
      "model_name": "LayoutModel",
      "state": {}
     },
     "74eedbd6c90b477588d46f7c002a3b0c": {
      "model_module": "@jupyter-widgets/controls",
      "model_module_version": "1.4.0",
      "model_name": "ButtonModel",
      "state": {
       "description": "Submit",
       "layout": "IPY_MODEL_00747fa259b54ff7b6a402784ce783d9",
       "style": "IPY_MODEL_90fad4e2ecba499f99f69528e78e7538"
      }
     },
     "7552df398eb241e9b68f9a064250a341": {
      "model_module": "@jupyter-widgets/base",
      "model_module_version": "1.1.0",
      "model_name": "LayoutModel",
      "state": {}
     },
     "77ded76026424f1f81519edb5a528af1": {
      "model_module": "@jupyter-widgets/controls",
      "model_module_version": "1.4.0",
      "model_name": "ButtonModel",
      "state": {
       "description": "Submit",
       "layout": "IPY_MODEL_c901d0ba9fc34b688faf566612c346d0",
       "style": "IPY_MODEL_ec720d63969a49248654867ae0711468"
      }
     },
     "787927552f1648b59029ecdf091b83ed": {
      "model_module": "@jupyter-widgets/base",
      "model_module_version": "1.1.0",
      "model_name": "LayoutModel",
      "state": {}
     },
     "7d95615976e94562b4f13f6d4ff4fd68": {
      "model_module": "@jupyter-widgets/base",
      "model_module_version": "1.1.0",
      "model_name": "LayoutModel",
      "state": {}
     },
     "847fbfd0fdea4bb69b9d4987bfac21ff": {
      "model_module": "@jupyter-widgets/output",
      "model_module_version": "1.0.0",
      "model_name": "OutputModel",
      "state": {
       "layout": "IPY_MODEL_3ed63f55bf804b25aa02b643be7ca75a"
      }
     },
     "880838879ec1469b8f284e2fc93b8d8d": {
      "model_module": "@jupyter-widgets/controls",
      "model_module_version": "1.4.0",
      "model_name": "RadioButtonsModel",
      "state": {
       "_options_labels": [
        "a",
        "b",
        "c",
        "d",
        "e"
       ],
       "index": 1,
       "layout": "IPY_MODEL_cf28912aa67f452c9e76e2d621356d96",
       "style": "IPY_MODEL_d6bd1c475c90434bb9178fc03f3ef1c2"
      }
     },
     "8a34fa2b2f4d4531a32945c08439bd8a": {
      "model_module": "@jupyter-widgets/controls",
      "model_module_version": "1.4.0",
      "model_name": "ButtonStyleModel",
      "state": {}
     },
     "8bd3c476b2cf43928617a4fc9becd3f4": {
      "model_module": "@jupyter-widgets/controls",
      "model_module_version": "1.4.0",
      "model_name": "DescriptionStyleModel",
      "state": {
       "description_width": ""
      }
     },
     "8d18ee18dfee454ab66e159130e49cf4": {
      "model_module": "@jupyter-widgets/base",
      "model_module_version": "1.1.0",
      "model_name": "LayoutModel",
      "state": {}
     },
     "90fad4e2ecba499f99f69528e78e7538": {
      "model_module": "@jupyter-widgets/controls",
      "model_module_version": "1.4.0",
      "model_name": "ButtonStyleModel",
      "state": {}
     },
     "96ff6889f8714dacabe498d2ae188c75": {
      "model_module": "@jupyter-widgets/base",
      "model_module_version": "1.1.0",
      "model_name": "LayoutModel",
      "state": {}
     },
     "9840aeeabddf4ec4b178a2b15ed4b7dc": {
      "model_module": "@jupyter-widgets/controls",
      "model_module_version": "1.4.0",
      "model_name": "RadioButtonsModel",
      "state": {
       "_options_labels": [
        "a",
        "b",
        "c",
        "d",
        "e"
       ],
       "index": 1,
       "layout": "IPY_MODEL_04b909a64b034a989de80111511b73cc",
       "style": "IPY_MODEL_116b88a9f9fb42a285154b06297d17a8"
      }
     },
     "99fcdd3a87314154aa54f091e6f3393e": {
      "model_module": "@jupyter-widgets/controls",
      "model_module_version": "1.4.0",
      "model_name": "RadioButtonsModel",
      "state": {
       "_options_labels": [
        "a",
        "b",
        "c",
        "d",
        "e"
       ],
       "index": 3,
       "layout": "IPY_MODEL_7d95615976e94562b4f13f6d4ff4fd68",
       "style": "IPY_MODEL_b4318ce24ee848ecb3b54b15e7f890ec"
      }
     },
     "9df4522cb6fe40e9904528fd6cc046c2": {
      "model_module": "@jupyter-widgets/output",
      "model_module_version": "1.0.0",
      "model_name": "OutputModel",
      "state": {
       "layout": "IPY_MODEL_6f0df751aeb348e2ba775924f0afa185",
       "outputs": [
        {
         "name": "stdout",
         "output_type": "stream",
         "text": "\u001b[6;30;42mTrue\u001b[0m\n\n"
        }
       ]
      }
     },
     "9f9851688366437699ddbcef8bb30e4a": {
      "model_module": "@jupyter-widgets/controls",
      "model_module_version": "1.4.0",
      "model_name": "RadioButtonsModel",
      "state": {
       "_options_labels": [
        "a",
        "b",
        "c",
        "d",
        "e"
       ],
       "index": 0,
       "layout": "IPY_MODEL_f3d8ffb560784a1897882565eb1ac2cd",
       "style": "IPY_MODEL_6482831c705f4466903e5e9afa3d6948"
      }
     },
     "a5b5a5112800443d8a38dd987d985e38": {
      "model_module": "@jupyter-widgets/controls",
      "model_module_version": "1.4.0",
      "model_name": "RadioButtonsModel",
      "state": {
       "_options_labels": [
        "a",
        "b",
        "c",
        "d",
        "e"
       ],
       "index": 2,
       "layout": "IPY_MODEL_b9fe4084b14b42d2a5dedd64d42153f8",
       "style": "IPY_MODEL_d12c22424acd4a5f8adc3244ba32dca9"
      }
     },
     "a75f80d8de394f06b133d9c72ebcde73": {
      "model_module": "@jupyter-widgets/controls",
      "model_module_version": "1.4.0",
      "model_name": "VBoxModel",
      "state": {
       "children": [
        "IPY_MODEL_0c76578bb62945359282f67c7f0ac18e",
        "IPY_MODEL_a5b5a5112800443d8a38dd987d985e38",
        "IPY_MODEL_4f043de2d32944719d7515d48588f5a1",
        "IPY_MODEL_14947cfc643a4bfe86fc4ce84d40e5d6"
       ],
       "layout": "IPY_MODEL_38953f0fc6e947c397e0d7494f34ef87"
      }
     },
     "ae28568474514d4ca16c35df34e303b5": {
      "model_module": "@jupyter-widgets/base",
      "model_module_version": "1.1.0",
      "model_name": "LayoutModel",
      "state": {}
     },
     "b42350dd65154204a746bf998259976e": {
      "model_module": "@jupyter-widgets/output",
      "model_module_version": "1.0.0",
      "model_name": "OutputModel",
      "state": {
       "layout": "IPY_MODEL_714888d8615547db96ae24d0ce6b29f3",
       "outputs": [
        {
         "name": "stdout",
         "output_type": "stream",
         "text": "Select the correct answer\n"
        }
       ]
      }
     },
     "b4318ce24ee848ecb3b54b15e7f890ec": {
      "model_module": "@jupyter-widgets/controls",
      "model_module_version": "1.4.0",
      "model_name": "DescriptionStyleModel",
      "state": {
       "description_width": ""
      }
     },
     "b7c415e7541b40e4b9f56f46b180f4b9": {
      "model_module": "@jupyter-widgets/controls",
      "model_module_version": "1.4.0",
      "model_name": "VBoxModel",
      "state": {
       "children": [
        "IPY_MODEL_3500a6f8d1aa46e2a63b49c48ac35eec",
        "IPY_MODEL_99fcdd3a87314154aa54f091e6f3393e",
        "IPY_MODEL_74eedbd6c90b477588d46f7c002a3b0c",
        "IPY_MODEL_0ffb7dad632846aea266520c147f4427"
       ],
       "layout": "IPY_MODEL_1fc528d2a8f943b098fdf949695d56d0"
      }
     },
     "b9fe4084b14b42d2a5dedd64d42153f8": {
      "model_module": "@jupyter-widgets/base",
      "model_module_version": "1.1.0",
      "model_name": "LayoutModel",
      "state": {}
     },
     "ba7b4d2b3f6c4fd8ad0c257541ddd710": {
      "model_module": "@jupyter-widgets/base",
      "model_module_version": "1.1.0",
      "model_name": "LayoutModel",
      "state": {}
     },
     "bf52693080064091bcafaa6a4206a1a5": {
      "model_module": "@jupyter-widgets/base",
      "model_module_version": "1.1.0",
      "model_name": "LayoutModel",
      "state": {}
     },
     "c37034b204f34f3aad48c9bc20e48b0e": {
      "model_module": "@jupyter-widgets/output",
      "model_module_version": "1.0.0",
      "model_name": "OutputModel",
      "state": {
       "layout": "IPY_MODEL_6f2db549d38c47bd96688c0f9c77ec80"
      }
     },
     "c901d0ba9fc34b688faf566612c346d0": {
      "model_module": "@jupyter-widgets/base",
      "model_module_version": "1.1.0",
      "model_name": "LayoutModel",
      "state": {}
     },
     "cf28912aa67f452c9e76e2d621356d96": {
      "model_module": "@jupyter-widgets/base",
      "model_module_version": "1.1.0",
      "model_name": "LayoutModel",
      "state": {}
     },
     "d12c22424acd4a5f8adc3244ba32dca9": {
      "model_module": "@jupyter-widgets/controls",
      "model_module_version": "1.4.0",
      "model_name": "DescriptionStyleModel",
      "state": {
       "description_width": ""
      }
     },
     "d2b3625685ab434bbdb21e9248f99d3e": {
      "model_module": "@jupyter-widgets/output",
      "model_module_version": "1.0.0",
      "model_name": "OutputModel",
      "state": {
       "layout": "IPY_MODEL_ae28568474514d4ca16c35df34e303b5",
       "outputs": [
        {
         "name": "stdout",
         "output_type": "stream",
         "text": "\u001b[6;30;42mTrue\u001b[0m\n\n"
        }
       ]
      }
     },
     "d6bd1c475c90434bb9178fc03f3ef1c2": {
      "model_module": "@jupyter-widgets/controls",
      "model_module_version": "1.4.0",
      "model_name": "DescriptionStyleModel",
      "state": {
       "description_width": ""
      }
     },
     "dec4c4d7c8a94adeabc6b8d8c66f5ccb": {
      "model_module": "@jupyter-widgets/controls",
      "model_module_version": "1.4.0",
      "model_name": "ButtonStyleModel",
      "state": {}
     },
     "e57d73008d4c4fa6b136e01bac355746": {
      "model_module": "@jupyter-widgets/base",
      "model_module_version": "1.1.0",
      "model_name": "LayoutModel",
      "state": {}
     },
     "e58e0b73e6f14f4583a0dbc080d6c52f": {
      "model_module": "@jupyter-widgets/base",
      "model_module_version": "1.1.0",
      "model_name": "LayoutModel",
      "state": {}
     },
     "e5dc45a50e2b43079f8e366b5dced8ed": {
      "model_module": "@jupyter-widgets/controls",
      "model_module_version": "1.4.0",
      "model_name": "ButtonModel",
      "state": {
       "description": "Submit",
       "layout": "IPY_MODEL_0f88631f49434458a833c16f00d766d7",
       "style": "IPY_MODEL_8a34fa2b2f4d4531a32945c08439bd8a"
      }
     },
     "e8e4b44f42234153b600e0d8b764267f": {
      "model_module": "@jupyter-widgets/controls",
      "model_module_version": "1.4.0",
      "model_name": "RadioButtonsModel",
      "state": {
       "_options_labels": [
        "a",
        "b",
        "c",
        "d",
        "e"
       ],
       "index": 2,
       "layout": "IPY_MODEL_0513c393c31242d78f003cab9225abcb",
       "style": "IPY_MODEL_8bd3c476b2cf43928617a4fc9becd3f4"
      }
     },
     "ec720d63969a49248654867ae0711468": {
      "model_module": "@jupyter-widgets/controls",
      "model_module_version": "1.4.0",
      "model_name": "ButtonStyleModel",
      "state": {}
     },
     "f3d8ffb560784a1897882565eb1ac2cd": {
      "model_module": "@jupyter-widgets/base",
      "model_module_version": "1.1.0",
      "model_name": "LayoutModel",
      "state": {}
     },
     "f9dfa339054c447880738df037c6c2fc": {
      "model_module": "@jupyter-widgets/base",
      "model_module_version": "1.1.0",
      "model_name": "LayoutModel",
      "state": {}
     },
     "fb3eeeda72774407a891f360204abb14": {
      "model_module": "@jupyter-widgets/controls",
      "model_module_version": "1.4.0",
      "model_name": "VBoxModel",
      "state": {
       "children": [
        "IPY_MODEL_08b74a2981424bf4ae193652de296ed1",
        "IPY_MODEL_e8e4b44f42234153b600e0d8b764267f",
        "IPY_MODEL_6415daf4a4834e33b1f779aa6fe70e35",
        "IPY_MODEL_9df4522cb6fe40e9904528fd6cc046c2"
       ],
       "layout": "IPY_MODEL_7282a482cc03460db98f809ca85b7507"
      }
     },
     "ff0b7181b0434f0bb5fb696c823fb571": {
      "model_module": "@jupyter-widgets/controls",
      "model_module_version": "1.4.0",
      "model_name": "RadioButtonsModel",
      "state": {
       "_options_labels": [
        "a",
        "b",
        "c",
        "d",
        "e"
       ],
       "index": 0,
       "layout": "IPY_MODEL_72e6305690e245d1bef5e884760c32f9",
       "style": "IPY_MODEL_16a953e45c7c4d4f86c7f995d237066f"
      }
     },
     "ff56de86b19e4505acc6191d7dc52fa9": {
      "model_module": "@jupyter-widgets/base",
      "model_module_version": "1.1.0",
      "model_name": "LayoutModel",
      "state": {}
     }
    },
    "version_major": 2,
    "version_minor": 0
   }
  }
 },
 "nbformat": 4,
 "nbformat_minor": 2
}
