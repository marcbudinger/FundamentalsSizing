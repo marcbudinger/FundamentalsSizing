{
 "cells": [
  {
   "cell_type": "markdown",
   "metadata": {
    "slideshow": {
     "slide_type": "slide"
    }
   },
   "source": [
    "<img src=\"./pictures/logo-insa.jpg\" style=\"float:right; max-width: 120px; display: inline\" alt=\"INSA\" /></a>\n"
   ]
  },
  {
   "cell_type": "markdown",
   "metadata": {
    "slideshow": {
     "slide_type": "slide"
    }
   },
   "source": [
    "# Architecture analysis and sizing scenarios\n",
    "\n",
    "*Written by Marc Budinger, INSA Toulouse, France*\n",
    "\n",
    "The first step of a preliminary design is the analysis of the system and the definition of the main sizing scenarios."
   ]
  },
  {
   "cell_type": "code",
   "execution_count": 1,
   "metadata": {},
   "outputs": [],
   "source": [
    "import QCM_widget as QCM"
   ]
  },
  {
   "cell_type": "markdown",
   "metadata": {
    "slideshow": {
     "slide_type": "slide"
    }
   },
   "source": [
    "## Architectures analysis\n",
    "\n",
    "#### Teaching video\n",
    "\n",
    "This video is going to introduce you to the tools and rules that permits the analyse of energy chain architectures.\n",
    "\n",
    "- Video V1.1 - Architectures analysis [English](https://youtu.be/ezB8p1glQus)\n",
    "\n",
    "You can find here the card game for architectures analysis : [Elec](./documents/Jeu_cartes_Elec_En_jaune_clair.pdf), [Mecha](./documents/Jeu_cartes_Meca_En_vert_clair.pdf), [Fluid](./documents/Jeu_cartes_Hydro_bleu_clair.pdf), [Thermal](./documents/Jeu_cartes_Thermal_rose)\n",
    " \n",
    "#### Reminder of connections and design rules\n",
    "\n",
    "*Connections rules (mandatory)*  \n",
    "- All domains: Power variables have to be the same  \n",
    "- Force/Flow diagrams and quadrants have to be compatible.  \n",
    "- AC Elec: Active P and reactive Q powers have to be compatible.  \n",
    "- Power Elec: No short circuit with voltage source. No open circuit with current source. Never connect directly 2 voltage sources or 2 current sources.  \n",
    "\n",
    "*Design rules (recommanded)*   \n",
    "- All domains: To minimise losses, masses and volumes  \n",
    "- Elec : To minimise reactive power Q or maximise power factor. To increase frequency use of magnetic or reactive components  \n",
    "\n",
    "#### Quiz\n",
    "\n",
    "Give the number of quadrants for the above examples:\n",
    "\n",
    "Fan           |  Spindle with emergency brake  |  Engine  |   Train\n",
    ":-------------------------:|:-------------------------:\n",
    "![Fan](./pictures/Archi_Fan.jpg)   | ![Spindle](./pictures/Archi_Spindle.jpg)   | ![Engine](./pictures/Archi_Engine.jpg)   |  ![train](./pictures/Archi_Train.jpg)\n",
    "\n"
   ]
  },
  {
   "cell_type": "code",
   "execution_count": 6,
   "metadata": {},
   "outputs": [
    {
     "data": {
      "application/vnd.jupyter.widget-view+json": {
       "model_id": "8f275710ff9b4a2e92fa2c748cc48204",
       "version_major": 2,
       "version_minor": 0
      },
      "text/plain": [
       "VBox(children=(Output(), RadioButtons(options=((1, 0), (2, 1), (3, 2), (4, 3)), value=0), Button(description='…"
      ]
     },
     "metadata": {},
     "output_type": "display_data"
    }
   ],
   "source": [
    "QCM.quiz(1,\"./quiz/ArchiQuiz.xlsx\")"
   ]
  },
  {
   "cell_type": "code",
   "execution_count": 7,
   "metadata": {},
   "outputs": [
    {
     "data": {
      "application/vnd.jupyter.widget-view+json": {
       "model_id": "ea4c8d87a52e4d09a4b23091342d8365",
       "version_major": 2,
       "version_minor": 0
      },
      "text/plain": [
       "VBox(children=(Output(), RadioButtons(options=((1, 0), (2, 1), (3, 2), (4, 3)), value=0), Button(description='…"
      ]
     },
     "metadata": {},
     "output_type": "display_data"
    }
   ],
   "source": [
    "QCM.quiz(2,\"./quiz/ArchiQuiz.xlsx\")"
   ]
  },
  {
   "cell_type": "code",
   "execution_count": 4,
   "metadata": {},
   "outputs": [
    {
     "data": {
      "application/vnd.jupyter.widget-view+json": {
       "model_id": "",
       "version_major": 2,
       "version_minor": 0
      },
      "text/plain": [
       "VBox(children=(Output(), RadioButtons(options=((1, 0), (2, 1), (3, 2), (4, 3)), value=0), Button(description='…"
      ]
     },
     "metadata": {},
     "output_type": "display_data"
    }
   ],
   "source": [
    "QCM.quiz(3,\"./quiz/ArchiQuiz.xlsx\")"
   ]
  },
  {
   "cell_type": "code",
   "execution_count": 5,
   "metadata": {},
   "outputs": [
    {
     "data": {
      "application/vnd.jupyter.widget-view+json": {
       "model_id": "",
       "version_major": 2,
       "version_minor": 0
      },
      "text/plain": [
       "VBox(children=(Output(), RadioButtons(options=((1, 0), (2, 1), (3, 2), (4, 3)), value=0), Button(description='…"
      ]
     },
     "metadata": {},
     "output_type": "display_data"
    }
   ],
   "source": [
    "QCM.quiz(4,\"./quiz/ArchiQuiz.xlsx\")"
   ]
  },
  {
   "cell_type": "markdown",
   "metadata": {},
   "source": [
    "A hydropower plant generates electrical power on the national grid using an asynchronous machine and a transformer. We want to modify the installation to provide power to a local network independent of the national network. Is this possible with the proposed architecture ?\n",
    "    \n",
    "Hydroelectric central           |  EDF Network  |  Independant network \n",
    ":-------------------------:|:-------------------------:|:-------------------------:\n",
    "![Hydrolic Central](./pictures/Archi_hydrocentral.png)   | ![EDF](./pictures/Archi_centraledf.png)   | ![Independant](./pictures/Archi_centralindependant.png)   "
   ]
  },
  {
   "cell_type": "code",
   "execution_count": 9,
   "metadata": {},
   "outputs": [
    {
     "data": {
      "application/vnd.jupyter.widget-view+json": {
       "model_id": "e8522dadcc6d47989422f2135682c634",
       "version_major": 2,
       "version_minor": 0
      },
      "text/plain": [
       "VBox(children=(Output(), RadioButtons(options=(('Possible', 0), ('Not Possible', 1)), value=0), Button(descrip…"
      ]
     },
     "metadata": {},
     "output_type": "display_data"
    }
   ],
   "source": [
    "QCM.quiz(5,\"./quiz/ArchiQuiz.xlsx\")"
   ]
  },
  {
   "cell_type": "markdown",
   "metadata": {},
   "source": [
    "An electric vehicle is motorized with a battery, a chopper and a DC motor. The following figure shows the schematic of the static converter.\n",
    "\n",
    "Vehicle          |  DC/DC converter  \n",
    ":-------------------------:|:-------------------------:\n",
    "![Vehiclel](./pictures/Archi_tweezy.png)   | ![EDF](./pictures/Archi_chopper.png)    "
   ]
  },
  {
   "cell_type": "code",
   "execution_count": 10,
   "metadata": {},
   "outputs": [
    {
     "data": {
      "application/vnd.jupyter.widget-view+json": {
       "model_id": "095bafbe9bdb4e4597355dda123ff61e",
       "version_major": 2,
       "version_minor": 0
      },
      "text/plain": [
       "VBox(children=(Output(), RadioButtons(options=((1, 0), (2, 1), (3, 2), (4, 3)), value=0), Button(description='…"
      ]
     },
     "metadata": {},
     "output_type": "display_data"
    }
   ],
   "source": [
    "QCM.quiz(6,\"./quiz/ArchiQuiz.xlsx\")"
   ]
  },
  {
   "cell_type": "code",
   "execution_count": 11,
   "metadata": {},
   "outputs": [
    {
     "data": {
      "application/vnd.jupyter.widget-view+json": {
       "model_id": "6486b18dcc1e4b389526aa88baca398d",
       "version_major": 2,
       "version_minor": 0
      },
      "text/plain": [
       "VBox(children=(Output(), RadioButtons(options=(('Forward', 0), ('Forward, Brake', 1), ('Forward, Backward, Bra…"
      ]
     },
     "metadata": {},
     "output_type": "display_data"
    }
   ],
   "source": [
    "QCM.quiz(7,\"./quiz/ArchiQuiz.xlsx\")"
   ]
  },
  {
   "cell_type": "markdown",
   "metadata": {},
   "source": [
    "## Design drivers and sizing scenarios\n",
    "\n",
    "#### Teaching video\n",
    "\n",
    "In this video we will see how to establish sizing scenarios for a mechatronic system using design drivers for all its components.\n",
    "\n",
    "- Video V1.2 - Design drivers and sizing scenarios [English](https://youtu.be/s0wR5wKXwrA)\n",
    "\n",
    "#### Keywords on design drivers and sizing scenarios\n",
    "\n",
    "Design drivers:\n",
    "- Operational limits  \n",
    "Transient: rapid degradations   \n",
    "Continuous: gradual degration  \n",
    "- Imperfections (Energy storage, Losses)\n",
    "\n",
    "Sizing scenarios:\n",
    "- Functions of the system\n",
    "- Design drivers of components\n",
    "\n",
    "\n",
    "#### Quiz\n",
    "\n",
    "Rapid and gradual degradations of Ball and roller screws are defined by specific parameters.  \n",
    "\n",
    "![BallScrew](./pictures/DesignDriver_Ballscrew.png)\n",
    "\n",
    "The first one is defined by: \"Load acting on the axis of the screw resulting in a nominal life of one million revolutions\""
   ]
  },
  {
   "cell_type": "code",
   "execution_count": 12,
   "metadata": {},
   "outputs": [
    {
     "data": {
      "application/vnd.jupyter.widget-view+json": {
       "model_id": "bf345fc5a1534649aa4da46e4fc69854",
       "version_major": 2,
       "version_minor": 0
      },
      "text/plain": [
       "VBox(children=(Output(), RadioButtons(options=(('Rapid degradation', 0), ('Gradual degradation', 1)), value=0)…"
      ]
     },
     "metadata": {},
     "output_type": "display_data"
    }
   ],
   "source": [
    "QCM.quiz(8,\"./quiz/ArchiQuiz.xlsx\")"
   ]
  },
  {
   "cell_type": "code",
   "execution_count": 13,
   "metadata": {},
   "outputs": [
    {
     "data": {
      "application/vnd.jupyter.widget-view+json": {
       "model_id": "a8974eef3fba4a5599095b7049b77e6e",
       "version_major": 2,
       "version_minor": 0
      },
      "text/plain": [
       "VBox(children=(Output(), RadioButtons(options=(('Dynamic load: Ca or Cd', 0), ('Static load: C0 or Ca0', 1)), …"
      ]
     },
     "metadata": {},
     "output_type": "display_data"
    }
   ],
   "source": [
    "QCM.quiz(9,\"./quiz/ArchiQuiz.xlsx\")"
   ]
  },
  {
   "cell_type": "markdown",
   "metadata": {},
   "source": [
    "The second one is defined by: \"Axial load which leads to a permanent deformation of the rolling elements\""
   ]
  },
  {
   "cell_type": "code",
   "execution_count": 15,
   "metadata": {},
   "outputs": [
    {
     "data": {
      "application/vnd.jupyter.widget-view+json": {
       "model_id": "7818fa41e7af495b8fa1bfd2178e5aa0",
       "version_major": 2,
       "version_minor": 0
      },
      "text/plain": [
       "VBox(children=(Output(), RadioButtons(options=(('Rapid degradation', 0), ('Gradual degradation', 1)), value=0)…"
      ]
     },
     "metadata": {},
     "output_type": "display_data"
    }
   ],
   "source": [
    "QCM.quiz(10,\"./quiz/ArchiQuiz.xlsx\")"
   ]
  },
  {
   "cell_type": "code",
   "execution_count": 16,
   "metadata": {},
   "outputs": [
    {
     "data": {
      "application/vnd.jupyter.widget-view+json": {
       "model_id": "4192bb4ed449487aa6976bdad9cc281a",
       "version_major": 2,
       "version_minor": 0
      },
      "text/plain": [
       "VBox(children=(Output(), RadioButtons(options=(('Dynamic load: Ca or Cd', 0), ('Static load: C0 or Ca0', 1)), …"
      ]
     },
     "metadata": {},
     "output_type": "display_data"
    }
   ],
   "source": [
    "QCM.quiz(11,\"./quiz/ArchiQuiz.xlsx\")"
   ]
  },
  {
   "cell_type": "markdown",
   "metadata": {},
   "source": [
    "The operational limits of a brushless motors is defined by the following diagram.\n",
    "\n",
    "![SOA Brushless motors](./pictures/DesignDriver_BrushlessMotor.png)\n",
    "\n",
    "Match the ABC boundaries of the torque/speed characteristic with the physical limitations of a brushless motor-drive combination. Also indicate whether the operational limit is transient or continuous."
   ]
  },
  {
   "cell_type": "code",
   "execution_count": 18,
   "metadata": {},
   "outputs": [
    {
     "data": {
      "application/vnd.jupyter.widget-view+json": {
       "model_id": "4692829b0c4c420cb230cb5bc24864cd",
       "version_major": 2,
       "version_minor": 0
      },
      "text/plain": [
       "VBox(children=(Output(), RadioButtons(options=(('A limit', 0), ('B limit', 1), ('C limit', 2)), value=0), Butt…"
      ]
     },
     "metadata": {},
     "output_type": "display_data"
    }
   ],
   "source": [
    "QCM.quiz(12,\"./quiz/ArchiQuiz.xlsx\")"
   ]
  },
  {
   "cell_type": "code",
   "execution_count": 19,
   "metadata": {},
   "outputs": [
    {
     "data": {
      "application/vnd.jupyter.widget-view+json": {
       "model_id": "df2bdaa3a58842cebf9aa20ea5333a58",
       "version_major": 2,
       "version_minor": 0
      },
      "text/plain": [
       "VBox(children=(Output(), RadioButtons(options=(('A limit', 0), ('B limit', 1), ('C limit', 2)), value=0), Butt…"
      ]
     },
     "metadata": {},
     "output_type": "display_data"
    }
   ],
   "source": [
    "QCM.quiz(13,\"./quiz/ArchiQuiz.xlsx\")"
   ]
  },
  {
   "cell_type": "code",
   "execution_count": 20,
   "metadata": {},
   "outputs": [
    {
     "data": {
      "application/vnd.jupyter.widget-view+json": {
       "model_id": "f7505ff0389e48458988e2e61bf5e63f",
       "version_major": 2,
       "version_minor": 0
      },
      "text/plain": [
       "VBox(children=(Output(), RadioButtons(options=(('A limit', 0), ('B limit', 1), ('C limit', 2)), value=0), Butt…"
      ]
     },
     "metadata": {},
     "output_type": "display_data"
    }
   ],
   "source": [
    "QCM.quiz(14,\"./quiz/ArchiQuiz.xlsx\")"
   ]
  },
  {
   "cell_type": "markdown",
   "metadata": {},
   "source": [
    "Power transmission components have imperfections such as inertia. A ball screw SDS 14x4 of 0.5 m is associated with a reducer of reduction ratio 3 and a NX205 brushless motor. Using informations given in the following datasheet, calculate the  inertia of the components.\n",
    "\n",
    "![Inertia](./pictures/DesignDriver_Inertia.png)\n"
   ]
  },
  {
   "cell_type": "code",
   "execution_count": 22,
   "metadata": {},
   "outputs": [
    {
     "data": {
      "application/vnd.jupyter.widget-view+json": {
       "model_id": "de25fddc5abc4eaebf41025cb442ae3c",
       "version_major": 2,
       "version_minor": 0
      },
      "text/plain": [
       "VBox(children=(Output(), RadioButtons(options=(('22 kg.m²', 0), (' 1.1 10-5 kg.m²', 1), ('4.4  10-5 kg.m² ', 2…"
      ]
     },
     "metadata": {},
     "output_type": "display_data"
    }
   ],
   "source": [
    "QCM.quiz(15,\"./quiz/ArchiQuiz.xlsx\")"
   ]
  },
  {
   "cell_type": "code",
   "execution_count": 23,
   "metadata": {},
   "outputs": [
    {
     "data": {
      "application/vnd.jupyter.widget-view+json": {
       "model_id": "cbb64123d57d41b2b88f71125ec1e934",
       "version_major": 2,
       "version_minor": 0
      },
      "text/plain": [
       "VBox(children=(Output(), RadioButtons(options=(('2.1 kg.m²', 0), ('2.1 10-5 kg.m²', 1), ('18.9 10-5 kg.m² ', 2…"
      ]
     },
     "metadata": {},
     "output_type": "display_data"
    }
   ],
   "source": [
    "QCM.quiz(16,\"./quiz/ArchiQuiz.xlsx\")"
   ]
  },
  {
   "cell_type": "code",
   "execution_count": null,
   "metadata": {},
   "outputs": [],
   "source": []
  }
 ],
 "metadata": {
  "kernelspec": {
   "display_name": "Python 3",
   "language": "python",
   "name": "python3"
  },
  "language_info": {
   "codemirror_mode": {
    "name": "ipython",
    "version": 3
   },
   "file_extension": ".py",
   "mimetype": "text/x-python",
   "name": "python",
   "nbconvert_exporter": "python",
   "pygments_lexer": "ipython3",
   "version": "3.6.4"
  }
 },
 "nbformat": 4,
 "nbformat_minor": 2
}
